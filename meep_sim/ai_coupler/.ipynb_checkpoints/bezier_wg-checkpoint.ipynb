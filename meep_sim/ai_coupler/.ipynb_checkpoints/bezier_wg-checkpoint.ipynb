{
 "cells": [
  {
   "cell_type": "code",
   "execution_count": 1,
   "metadata": {},
   "outputs": [
    {
     "name": "stdout",
     "output_type": "stream",
     "text": [
      "Using matplotlib backend: TkAgg\n",
      "Using MPI version 3.0, 1 processes\n"
     ]
    }
   ],
   "source": [
    "%matplotlib auto\n",
    "import bezier\n",
    "import numpy as np\n",
    "import meep as mp\n",
    "import matplotlib.pyplot as plt"
   ]
  },
  {
   "cell_type": "code",
   "execution_count": 2,
   "metadata": {},
   "outputs": [],
   "source": [
    "point0 = mp.Vector3(-8.0, 2.0)\n",
    "cpoint0 = mp.Vector3(-2.0,2.0)\n",
    "cpoint1 = mp.Vector3(2.0,-2.0)\n",
    "point1 = mp.Vector3(8.0,-2.0)\n",
    "width = 1.0\n",
    "\n",
    "factor = np.linspace(0,1,21)\n",
    "\n",
    "nodes = np.asfortranarray([[point0.x, cpoint0.x, cpoint1.x, point1.x],[point0.y-width/2.0, cpoint0.y -width/2.0, cpoint1.y-width/2.0, point1.y-width/2.0]])\n",
    "curve = bezier.Curve(nodes, degree=3)\n",
    "points1 = curve.evaluate_multi(factor)\n",
    "nodes = np.asfortranarray([[point0.x, cpoint0.x, cpoint1.x, point1.x],[point0.y+width/2.0, cpoint0.y +width/2.0, cpoint1.y+width/2.0, point1.y+width/2.0]])\n",
    "curve = bezier.Curve(nodes, degree=3)\n",
    "points2 = curve.evaluate_multi(factor)"
   ]
  },
  {
   "cell_type": "code",
   "execution_count": 3,
   "metadata": {},
   "outputs": [
    {
     "data": {
      "text/plain": [
       "[<matplotlib.lines.Line2D at 0x7eff1dd16358>]"
      ]
     },
     "execution_count": 3,
     "metadata": {},
     "output_type": "execute_result"
    }
   ],
   "source": [
    "plt.plot(points1[0,:],points1[1,:])\n",
    "plt.plot(points2[0,:],points2[1,:])"
   ]
  },
  {
   "cell_type": "code",
   "execution_count": 4,
   "metadata": {},
   "outputs": [],
   "source": [
    "vertices = [mp.Vector3(x,y) for x,y in zip(points1[0,:],points1[1,:])]\n",
    "tmp_ver = [mp.Vector3(x,y) for x,y in zip(points2[0,:],points2[1,:])]\n",
    "vertices.extend([tmp for tmp in reversed(tmp_ver)])"
   ]
  },
  {
   "cell_type": "code",
   "execution_count": 5,
   "metadata": {},
   "outputs": [],
   "source": [
    "cell = mp.Vector3(16, 8, 0)\n",
    "geometry = [mp.Prism(vertices, height=mp.inf, center=mp.Vector3(), material=mp.Medium(epsilon=12))]"
   ]
  },
  {
   "cell_type": "code",
   "execution_count": 6,
   "metadata": {},
   "outputs": [
    {
     "name": "stdout",
     "output_type": "stream",
     "text": [
      "-----------\n",
      "Initializing structure...\n",
      "Meep progress: 9.72/200.0 = 4.9% done in 4.0s, 78.3s to go\n",
      "Meep progress: 20.14/200.0 = 10.1% done in 8.0s, 71.5s to go\n",
      "Meep progress: 30.77/200.0 = 15.4% done in 12.0s, 66.0s to go\n",
      "Meep progress: 43.68/200.0 = 21.8% done in 16.0s, 57.3s to go\n",
      "Meep progress: 52.660000000000004/200.0 = 26.3% done in 20.0s, 56.0s to go\n",
      "Meep progress: 63.800000000000004/200.0 = 31.9% done in 24.0s, 51.3s to go\n",
      "Meep progress: 73.5/200.0 = 36.8% done in 28.0s, 48.2s to go\n",
      "Meep progress: 87.53/200.0 = 43.8% done in 32.0s, 41.1s to go\n",
      "Meep progress: 101.72/200.0 = 50.9% done in 36.0s, 34.8s to go\n",
      "Meep progress: 114.45/200.0 = 57.2% done in 40.0s, 29.9s to go\n",
      "Meep progress: 125.34/200.0 = 62.7% done in 44.0s, 26.2s to go\n",
      "Meep progress: 139.44/200.0 = 69.7% done in 48.0s, 20.9s to go\n",
      "Meep progress: 149.6/200.0 = 74.8% done in 52.0s, 17.5s to go\n",
      "Meep progress: 161.77/200.0 = 80.9% done in 56.0s, 13.2s to go\n",
      "Meep progress: 173.44/200.0 = 86.7% done in 60.0s, 9.2s to go\n",
      "Meep progress: 185.04/200.0 = 92.5% done in 64.0s, 5.2s to go\n",
      "Meep progress: 197.32/200.0 = 98.7% done in 68.0s, 0.9s to go\n",
      "run 0 finished at t = 200.0 (20000 timesteps)\n"
     ]
    }
   ],
   "source": [
    "sources = [mp.Source(mp.ContinuousSource(frequency=0.15),\n",
    "                     component=mp.Ez,\n",
    "                     center=mp.Vector3(-7,2))]\n",
    "pml_layers = [mp.PML(1.0)]\n",
    "resolution = 50\n",
    "sim = mp.Simulation(cell_size=cell,\n",
    "                    boundary_layers=pml_layers,\n",
    "                    geometry=geometry,\n",
    "                    sources=sources,\n",
    "                    resolution=resolution)\n",
    "sim.run(until=200)"
   ]
  },
  {
   "cell_type": "code",
   "execution_count": 7,
   "metadata": {},
   "outputs": [],
   "source": [
    "import numpy as np\n",
    "import matplotlib.pyplot as plt\n",
    "eps_data = sim.get_array(center=mp.Vector3(), size=cell, component=mp.Dielectric)\n",
    "plt.figure(dpi=100)\n",
    "plt.imshow(eps_data.transpose(), interpolation='spline36', cmap='binary')\n",
    "plt.axis('off')\n",
    "plt.show()\n"
   ]
  },
  {
   "cell_type": "code",
   "execution_count": 8,
   "metadata": {},
   "outputs": [],
   "source": [
    "\n",
    "ez_data = sim.get_array(center=mp.Vector3(), size=cell, component=mp.Ez, cmplx=True)\n",
    "plt.figure(dpi=100)\n",
    "plt.imshow(eps_data.transpose(), interpolation='spline36', cmap='binary')\n",
    "plt.imshow(ez_data.real.transpose(), interpolation='spline36', cmap='RdBu', alpha=0.9)\n",
    "plt.axis('off')\n",
    "plt.show()"
   ]
  },
  {
   "cell_type": "code",
   "execution_count": null,
   "metadata": {},
   "outputs": [],
   "source": []
  }
 ],
 "metadata": {
  "kernelspec": {
   "display_name": "Python 3",
   "language": "python",
   "name": "python3"
  },
  "language_info": {
   "codemirror_mode": {
    "name": "ipython",
    "version": 3
   },
   "file_extension": ".py",
   "mimetype": "text/x-python",
   "name": "python",
   "nbconvert_exporter": "python",
   "pygments_lexer": "ipython3",
   "version": "3.5.2"
  }
 },
 "nbformat": 4,
 "nbformat_minor": 2
}
